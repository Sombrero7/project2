{
 "cells": [
  {
   "cell_type": "code",
   "execution_count": 1,
   "source": [
    "from __future__ import print_function\n",
    "from ipywidgets import interact, interactive, fixed, interact_manual\n",
    "import ipywidgets as widgets\n",
    "from ipywidgets.embed import embed_minimal_html"
   ],
   "outputs": [],
   "metadata": {}
  },
  {
   "cell_type": "code",
   "execution_count": 2,
   "source": [
    "def lin_reg(bedrooms, sqft_living, city_type, is_renovated):\n",
    "    \n",
    "    suburban = 0\n",
    "    urban = 0\n",
    "    \n",
    "    if city_type == 'suburban':\n",
    "        suburban = 1\n",
    "    \n",
    "    if city_type == 'urban':\n",
    "        urban = 1\n",
    "    \n",
    "    prelim = ((bedrooms)*((-5.711e+04 - 3.373)/0.926)\n",
    "              + (sqft_living)* ((2.69e+05 - 2080.321)/918.106) \n",
    "              + suburban*(4.943e+05) + urban*(5.492e+05)\n",
    "              + is_renovated*(1.811e+05)\n",
    "             )\n",
    "    \n",
    "    prelim = round(prelim, 2)\n",
    "    \n",
    "    print('$ ' + str(prelim))"
   ],
   "outputs": [],
   "metadata": {}
  },
  {
   "cell_type": "code",
   "execution_count": 3,
   "source": [
    "obj = interact(lin_reg, bedrooms=widgets.IntSlider(min=0, max=10, step=1, value=0),\n",
    "                  sqft_living=widgets.IntSlider(min=0, max=4000, step=10, value=0),\n",
    "                  city_type = ['','urban', 'suburban', 'rural'],\n",
    "                  is_renovated=False);"
   ],
   "outputs": [
    {
     "output_type": "display_data",
     "data": {
      "application/vnd.jupyter.widget-view+json": {
       "model_id": "75b399ee78374b61b91b240faee38279",
       "version_major": 2,
       "version_minor": 0
      },
      "text/plain": [
       "interactive(children=(IntSlider(value=0, description='bedrooms', max=10), IntSlider(value=0, description='sqft…"
      ]
     },
     "metadata": {}
    }
   ],
   "metadata": {}
  },
  {
   "cell_type": "code",
   "execution_count": null,
   "source": [],
   "outputs": [],
   "metadata": {}
  }
 ],
 "metadata": {
  "kernelspec": {
   "display_name": "Python (learn-env)",
   "language": "python",
   "name": "learn-env"
  },
  "language_info": {
   "codemirror_mode": {
    "name": "ipython",
    "version": 3
   },
   "file_extension": ".py",
   "mimetype": "text/x-python",
   "name": "python",
   "nbconvert_exporter": "python",
   "pygments_lexer": "ipython3",
   "version": "3.8.5"
  },
  "widgets": {
   "application/vnd.jupyter.widget-state+json": {
    "state": {
     "1398f013f809471ba8a359b1d61b12ca": {
      "model_module": "@jupyter-widgets/controls",
      "model_module_version": "1.5.0",
      "model_name": "IntSliderModel",
      "state": {
       "description": "sqft_living",
       "layout": "IPY_MODEL_aa60ffa840534404a5d0493b8ba3c936",
       "max": 4000,
       "step": 10,
       "style": "IPY_MODEL_ccbc3002b4f04b4392ffeee0888f6f60"
      }
     },
     "1ae8a934ed29400b85565d9c30cad6ad": {
      "model_module": "@jupyter-widgets/controls",
      "model_module_version": "1.5.0",
      "model_name": "DescriptionStyleModel",
      "state": {
       "description_width": ""
      }
     },
     "2ed1bebb6d3845f79660781a7483e2e6": {
      "model_module": "@jupyter-widgets/controls",
      "model_module_version": "1.5.0",
      "model_name": "CheckboxModel",
      "state": {
       "description": "is_renovated",
       "disabled": false,
       "layout": "IPY_MODEL_ceb81408dc5f4b45ac50c88a417775a6",
       "style": "IPY_MODEL_35d5f7fc8c124470b376c3f7eb6a55c3",
       "value": false
      }
     },
     "35d5f7fc8c124470b376c3f7eb6a55c3": {
      "model_module": "@jupyter-widgets/controls",
      "model_module_version": "1.5.0",
      "model_name": "DescriptionStyleModel",
      "state": {
       "description_width": ""
      }
     },
     "3780e3560a1244e796ae1ed65d9c822d": {
      "model_module": "@jupyter-widgets/controls",
      "model_module_version": "1.5.0",
      "model_name": "DropdownModel",
      "state": {
       "_options_labels": [
        "",
        "urban",
        "suburban",
        "rural"
       ],
       "description": "city_type",
       "index": 0,
       "layout": "IPY_MODEL_ec66304516ab43238885a97c088d87d9",
       "style": "IPY_MODEL_1ae8a934ed29400b85565d9c30cad6ad"
      }
     },
     "40ab41009a0a481a843e0953a025ef92": {
      "model_module": "@jupyter-widgets/base",
      "model_module_version": "1.2.0",
      "model_name": "LayoutModel",
      "state": {}
     },
     "677cfeb07192493ea8f7615724a858be": {
      "model_module": "@jupyter-widgets/controls",
      "model_module_version": "1.5.0",
      "model_name": "VBoxModel",
      "state": {
       "_dom_classes": [
        "widget-interact"
       ],
       "children": [
        "IPY_MODEL_7aedcab886b24a9d827d0ce7468b9c5d",
        "IPY_MODEL_1398f013f809471ba8a359b1d61b12ca",
        "IPY_MODEL_3780e3560a1244e796ae1ed65d9c822d",
        "IPY_MODEL_2ed1bebb6d3845f79660781a7483e2e6",
        "IPY_MODEL_c3f0631ed5744ce2bebc5a1a3fc50eb0"
       ],
       "layout": "IPY_MODEL_e4be8c7527404d3c89ba928196b494a8"
      }
     },
     "707bc41ae52241b0bf3b658cd45b127d": {
      "model_module": "@jupyter-widgets/base",
      "model_module_version": "1.2.0",
      "model_name": "LayoutModel",
      "state": {}
     },
     "7aedcab886b24a9d827d0ce7468b9c5d": {
      "model_module": "@jupyter-widgets/controls",
      "model_module_version": "1.5.0",
      "model_name": "IntSliderModel",
      "state": {
       "description": "bedrooms",
       "layout": "IPY_MODEL_707bc41ae52241b0bf3b658cd45b127d",
       "max": 10,
       "style": "IPY_MODEL_9ec67cc35b364df2b5b154221aa4a6bb"
      }
     },
     "9ec67cc35b364df2b5b154221aa4a6bb": {
      "model_module": "@jupyter-widgets/controls",
      "model_module_version": "1.5.0",
      "model_name": "SliderStyleModel",
      "state": {
       "description_width": ""
      }
     },
     "aa60ffa840534404a5d0493b8ba3c936": {
      "model_module": "@jupyter-widgets/base",
      "model_module_version": "1.2.0",
      "model_name": "LayoutModel",
      "state": {}
     },
     "c3f0631ed5744ce2bebc5a1a3fc50eb0": {
      "model_module": "@jupyter-widgets/output",
      "model_module_version": "1.0.0",
      "model_name": "OutputModel",
      "state": {
       "layout": "IPY_MODEL_40ab41009a0a481a843e0953a025ef92",
       "outputs": [
        {
         "name": "stdout",
         "output_type": "stream",
         "text": "$ 0.0\n"
        }
       ]
      }
     },
     "ccbc3002b4f04b4392ffeee0888f6f60": {
      "model_module": "@jupyter-widgets/controls",
      "model_module_version": "1.5.0",
      "model_name": "SliderStyleModel",
      "state": {
       "description_width": ""
      }
     },
     "ceb81408dc5f4b45ac50c88a417775a6": {
      "model_module": "@jupyter-widgets/base",
      "model_module_version": "1.2.0",
      "model_name": "LayoutModel",
      "state": {}
     },
     "e4be8c7527404d3c89ba928196b494a8": {
      "model_module": "@jupyter-widgets/base",
      "model_module_version": "1.2.0",
      "model_name": "LayoutModel",
      "state": {}
     },
     "ec66304516ab43238885a97c088d87d9": {
      "model_module": "@jupyter-widgets/base",
      "model_module_version": "1.2.0",
      "model_name": "LayoutModel",
      "state": {}
     }
    },
    "version_major": 2,
    "version_minor": 0
   }
  }
 },
 "nbformat": 4,
 "nbformat_minor": 4
}