{
 "cells": [
  {
   "cell_type": "code",
   "execution_count": 1,
   "metadata": {},
   "outputs": [],
   "source": [
    "# import necessary libraries\n",
    "import numpy as np\n",
    "import pandas as pd\n",
    "import scipy.stats as stats\n",
    "import matplotlib.pyplot as plt\n",
    "import seaborn as sns\n",
    "\n",
    "from sklearn.impute import MissingIndicator"
   ]
  },
  {
   "cell_type": "code",
   "execution_count": 2,
   "metadata": {},
   "outputs": [],
   "source": [
    "# to do\n",
    "\n",
    "# clean up dataset once and for all\n",
    "# add methods used for cleaning\n",
    "# add del statements"
   ]
  },
  {
   "cell_type": "code",
   "execution_count": 3,
   "metadata": {},
   "outputs": [],
   "source": [
    "# NOTES\n",
    "#"
   ]
  },
  {
   "cell_type": "code",
   "execution_count": 4,
   "metadata": {},
   "outputs": [],
   "source": [
    "# load data into a DataFrame object\n",
    "df = pd.read_csv('data/kc_house_Data.csv')"
   ]
  },
  {
   "cell_type": "code",
   "execution_count": 5,
   "metadata": {},
   "outputs": [],
   "source": [
    "# split df into categorical and numerical variable types\n",
    "df = df.drop(['id'], axis=1)\n",
    "df_num = df.select_dtypes(include=np.number)\n",
    "df_cat = df.drop(df_num.columns, axis=1)"
   ]
  },
  {
   "cell_type": "code",
   "execution_count": 6,
   "metadata": {
    "scrolled": true
   },
   "outputs": [
    {
     "name": "stderr",
     "output_type": "stream",
     "text": [
      "<ipython-input-6-3bd482b1fbeb>:4: SettingWithCopyWarning: \n",
      "A value is trying to be set on a copy of a slice from a DataFrame.\n",
      "Try using .loc[row_indexer,col_indexer] = value instead\n",
      "\n",
      "See the caveats in the documentation: https://pandas.pydata.org/pandas-docs/stable/user_guide/indexing.html#returning-a-view-versus-a-copy\n",
      "  df_num['sqft_basement'] = df_cat['sqft_basement']\n"
     ]
    }
   ],
   "source": [
    "# clean up df_cat\n",
    "df_cat['sqft_basement'] = df_cat['sqft_basement'].replace(to_replace='?', value=np.nan)\n",
    "df_cat['sqft_basement'] = pd.to_numeric(df_cat['sqft_basement'])\n",
    "df_num['sqft_basement'] = df_cat['sqft_basement']\n",
    "df_cat = df_cat.drop(['sqft_basement'], axis = 1)\n",
    "\n",
    "df_cat['grade'] = df_cat['grade'].map(lambda x: int(x[0]))\n",
    "\n",
    "df_cat['month_sold'] = df_cat['date'].map(lambda x: int(x.split('/')[0]))\n",
    "df_cat['year_sold'] = df_cat['date'].map(lambda x: int(x.split('/')[-1]))\n",
    "df_cat = df_cat.drop(['date'], axis=1)"
   ]
  },
  {
   "cell_type": "code",
   "execution_count": 7,
   "metadata": {},
   "outputs": [],
   "source": [
    "waterfront = df_cat[['waterfront']]\n",
    "missing_indicator = MissingIndicator()\n",
    "missing_indicator.fit(waterfront)\n",
    "waterfront_missing = missing_indicator.transform(waterfront)\n",
    "df_cat[\"waterfront_missing\"] = waterfront_missing\n",
    "\n",
    "df_cat['waterfront'] = df_cat['waterfront'].fillna('NO')\n",
    "df_cat.waterfront = df_cat.waterfront.eq('YES').mul(1)"
   ]
  },
  {
   "cell_type": "code",
   "execution_count": 8,
   "metadata": {},
   "outputs": [],
   "source": [
    "condition_dummies = pd.get_dummies(df_cat['condition'], prefix='cond_', drop_first=True)\n",
    "\n",
    "df_cat = df_cat.drop(['condition'], axis=1)\n",
    "df_cat = pd.concat([df_cat, condition_dummies], axis=1)"
   ]
  },
  {
   "cell_type": "code",
   "execution_count": 9,
   "metadata": {
    "scrolled": true
   },
   "outputs": [
    {
     "name": "stdout",
     "output_type": "stream",
     "text": [
      "<class 'pandas.core.frame.DataFrame'>\n",
      "RangeIndex: 21597 entries, 0 to 21596\n",
      "Data columns (total 10 columns):\n",
      " #   Column              Non-Null Count  Dtype \n",
      "---  ------              --------------  ----- \n",
      " 0   waterfront          21597 non-null  int64 \n",
      " 1   view                21534 non-null  object\n",
      " 2   grade               21597 non-null  int64 \n",
      " 3   month_sold          21597 non-null  int64 \n",
      " 4   year_sold           21597 non-null  int64 \n",
      " 5   waterfront_missing  21597 non-null  bool  \n",
      " 6   cond__Fair          21597 non-null  uint8 \n",
      " 7   cond__Good          21597 non-null  uint8 \n",
      " 8   cond__Poor          21597 non-null  uint8 \n",
      " 9   cond__Very Good     21597 non-null  uint8 \n",
      "dtypes: bool(1), int64(4), object(1), uint8(4)\n",
      "memory usage: 949.2+ KB\n"
     ]
    }
   ],
   "source": [
    "df_cat.info()"
   ]
  },
  {
   "cell_type": "code",
   "execution_count": 10,
   "metadata": {},
   "outputs": [
    {
     "data": {
      "text/plain": [
       "63"
      ]
     },
     "execution_count": 10,
     "metadata": {},
     "output_type": "execute_result"
    }
   ],
   "source": [
    "df_cat.view.isna().sum()"
   ]
  },
  {
   "cell_type": "code",
   "execution_count": 11,
   "metadata": {},
   "outputs": [],
   "source": [
    "df_cat.view = df_cat.view.fillna('NONE')"
   ]
  },
  {
   "cell_type": "code",
   "execution_count": 12,
   "metadata": {},
   "outputs": [],
   "source": [
    "view_dummies = pd.get_dummies(df_cat.view, prefix='view_', drop_first=True)\n",
    "df_cat = df_cat.drop(['view'], axis=1)\n",
    "df_cat = pd.concat([df_cat, view_dummies], axis=1)"
   ]
  },
  {
   "cell_type": "code",
   "execution_count": 13,
   "metadata": {},
   "outputs": [
    {
     "name": "stdout",
     "output_type": "stream",
     "text": [
      "<class 'pandas.core.frame.DataFrame'>\n",
      "RangeIndex: 21597 entries, 0 to 21596\n",
      "Data columns (total 13 columns):\n",
      " #   Column              Non-Null Count  Dtype\n",
      "---  ------              --------------  -----\n",
      " 0   waterfront          21597 non-null  int64\n",
      " 1   grade               21597 non-null  int64\n",
      " 2   month_sold          21597 non-null  int64\n",
      " 3   year_sold           21597 non-null  int64\n",
      " 4   waterfront_missing  21597 non-null  bool \n",
      " 5   cond__Fair          21597 non-null  uint8\n",
      " 6   cond__Good          21597 non-null  uint8\n",
      " 7   cond__Poor          21597 non-null  uint8\n",
      " 8   cond__Very Good     21597 non-null  uint8\n",
      " 9   view__EXCELLENT     21597 non-null  uint8\n",
      " 10  view__FAIR          21597 non-null  uint8\n",
      " 11  view__GOOD          21597 non-null  uint8\n",
      " 12  view__NONE          21597 non-null  uint8\n",
      "dtypes: bool(1), int64(4), uint8(8)\n",
      "memory usage: 864.8 KB\n"
     ]
    }
   ],
   "source": [
    "df_cat.info()"
   ]
  },
  {
   "cell_type": "code",
   "execution_count": 14,
   "metadata": {},
   "outputs": [
    {
     "data": {
      "text/plain": [
       "price               0\n",
       "bedrooms            0\n",
       "bathrooms           0\n",
       "sqft_living         0\n",
       "sqft_lot            0\n",
       "floors              0\n",
       "sqft_above          0\n",
       "yr_built            0\n",
       "yr_renovated     3842\n",
       "zipcode             0\n",
       "lat                 0\n",
       "long                0\n",
       "sqft_living15       0\n",
       "sqft_lot15          0\n",
       "sqft_basement     454\n",
       "dtype: int64"
      ]
     },
     "execution_count": 14,
     "metadata": {},
     "output_type": "execute_result"
    }
   ],
   "source": [
    "df_num.isna().sum()"
   ]
  },
  {
   "cell_type": "code",
   "execution_count": 15,
   "metadata": {},
   "outputs": [
    {
     "name": "stderr",
     "output_type": "stream",
     "text": [
      "/Users/nobletang/opt/anaconda3/envs/learn-env/lib/python3.8/site-packages/pandas/core/generic.py:5168: SettingWithCopyWarning: \n",
      "A value is trying to be set on a copy of a slice from a DataFrame.\n",
      "Try using .loc[row_indexer,col_indexer] = value instead\n",
      "\n",
      "See the caveats in the documentation: https://pandas.pydata.org/pandas-docs/stable/user_guide/indexing.html#returning-a-view-versus-a-copy\n",
      "  self[name] = value\n"
     ]
    }
   ],
   "source": [
    "df_num.sqft_basement = df_num.sqft_basement.fillna(0)"
   ]
  },
  {
   "cell_type": "code",
   "execution_count": 16,
   "metadata": {},
   "outputs": [],
   "source": [
    "df_num.yr_renovated = df_num.yr_renovated.fillna(0)"
   ]
  },
  {
   "cell_type": "code",
   "execution_count": 17,
   "metadata": {},
   "outputs": [
    {
     "data": {
      "text/html": [
       "<div>\n",
       "<style scoped>\n",
       "    .dataframe tbody tr th:only-of-type {\n",
       "        vertical-align: middle;\n",
       "    }\n",
       "\n",
       "    .dataframe tbody tr th {\n",
       "        vertical-align: top;\n",
       "    }\n",
       "\n",
       "    .dataframe thead th {\n",
       "        text-align: right;\n",
       "    }\n",
       "</style>\n",
       "<table border=\"1\" class=\"dataframe\">\n",
       "  <thead>\n",
       "    <tr style=\"text-align: right;\">\n",
       "      <th></th>\n",
       "      <th>price</th>\n",
       "      <th>bedrooms</th>\n",
       "      <th>bathrooms</th>\n",
       "      <th>sqft_living</th>\n",
       "      <th>sqft_lot</th>\n",
       "      <th>floors</th>\n",
       "      <th>sqft_above</th>\n",
       "      <th>yr_built</th>\n",
       "      <th>yr_renovated</th>\n",
       "      <th>zipcode</th>\n",
       "      <th>lat</th>\n",
       "      <th>long</th>\n",
       "      <th>sqft_living15</th>\n",
       "      <th>sqft_lot15</th>\n",
       "      <th>sqft_basement</th>\n",
       "    </tr>\n",
       "  </thead>\n",
       "  <tbody>\n",
       "    <tr>\n",
       "      <th>0</th>\n",
       "      <td>221900.0</td>\n",
       "      <td>3</td>\n",
       "      <td>1.00</td>\n",
       "      <td>1180</td>\n",
       "      <td>5650</td>\n",
       "      <td>1.0</td>\n",
       "      <td>1180</td>\n",
       "      <td>1955</td>\n",
       "      <td>0.0</td>\n",
       "      <td>98178</td>\n",
       "      <td>47.5112</td>\n",
       "      <td>-122.257</td>\n",
       "      <td>1340</td>\n",
       "      <td>5650</td>\n",
       "      <td>0.0</td>\n",
       "    </tr>\n",
       "    <tr>\n",
       "      <th>1</th>\n",
       "      <td>538000.0</td>\n",
       "      <td>3</td>\n",
       "      <td>2.25</td>\n",
       "      <td>2570</td>\n",
       "      <td>7242</td>\n",
       "      <td>2.0</td>\n",
       "      <td>2170</td>\n",
       "      <td>1951</td>\n",
       "      <td>1991.0</td>\n",
       "      <td>98125</td>\n",
       "      <td>47.7210</td>\n",
       "      <td>-122.319</td>\n",
       "      <td>1690</td>\n",
       "      <td>7639</td>\n",
       "      <td>400.0</td>\n",
       "    </tr>\n",
       "    <tr>\n",
       "      <th>2</th>\n",
       "      <td>180000.0</td>\n",
       "      <td>2</td>\n",
       "      <td>1.00</td>\n",
       "      <td>770</td>\n",
       "      <td>10000</td>\n",
       "      <td>1.0</td>\n",
       "      <td>770</td>\n",
       "      <td>1933</td>\n",
       "      <td>0.0</td>\n",
       "      <td>98028</td>\n",
       "      <td>47.7379</td>\n",
       "      <td>-122.233</td>\n",
       "      <td>2720</td>\n",
       "      <td>8062</td>\n",
       "      <td>0.0</td>\n",
       "    </tr>\n",
       "    <tr>\n",
       "      <th>3</th>\n",
       "      <td>604000.0</td>\n",
       "      <td>4</td>\n",
       "      <td>3.00</td>\n",
       "      <td>1960</td>\n",
       "      <td>5000</td>\n",
       "      <td>1.0</td>\n",
       "      <td>1050</td>\n",
       "      <td>1965</td>\n",
       "      <td>0.0</td>\n",
       "      <td>98136</td>\n",
       "      <td>47.5208</td>\n",
       "      <td>-122.393</td>\n",
       "      <td>1360</td>\n",
       "      <td>5000</td>\n",
       "      <td>910.0</td>\n",
       "    </tr>\n",
       "    <tr>\n",
       "      <th>4</th>\n",
       "      <td>510000.0</td>\n",
       "      <td>3</td>\n",
       "      <td>2.00</td>\n",
       "      <td>1680</td>\n",
       "      <td>8080</td>\n",
       "      <td>1.0</td>\n",
       "      <td>1680</td>\n",
       "      <td>1987</td>\n",
       "      <td>0.0</td>\n",
       "      <td>98074</td>\n",
       "      <td>47.6168</td>\n",
       "      <td>-122.045</td>\n",
       "      <td>1800</td>\n",
       "      <td>7503</td>\n",
       "      <td>0.0</td>\n",
       "    </tr>\n",
       "    <tr>\n",
       "      <th>...</th>\n",
       "      <td>...</td>\n",
       "      <td>...</td>\n",
       "      <td>...</td>\n",
       "      <td>...</td>\n",
       "      <td>...</td>\n",
       "      <td>...</td>\n",
       "      <td>...</td>\n",
       "      <td>...</td>\n",
       "      <td>...</td>\n",
       "      <td>...</td>\n",
       "      <td>...</td>\n",
       "      <td>...</td>\n",
       "      <td>...</td>\n",
       "      <td>...</td>\n",
       "      <td>...</td>\n",
       "    </tr>\n",
       "    <tr>\n",
       "      <th>21592</th>\n",
       "      <td>360000.0</td>\n",
       "      <td>3</td>\n",
       "      <td>2.50</td>\n",
       "      <td>1530</td>\n",
       "      <td>1131</td>\n",
       "      <td>3.0</td>\n",
       "      <td>1530</td>\n",
       "      <td>2009</td>\n",
       "      <td>0.0</td>\n",
       "      <td>98103</td>\n",
       "      <td>47.6993</td>\n",
       "      <td>-122.346</td>\n",
       "      <td>1530</td>\n",
       "      <td>1509</td>\n",
       "      <td>0.0</td>\n",
       "    </tr>\n",
       "    <tr>\n",
       "      <th>21593</th>\n",
       "      <td>400000.0</td>\n",
       "      <td>4</td>\n",
       "      <td>2.50</td>\n",
       "      <td>2310</td>\n",
       "      <td>5813</td>\n",
       "      <td>2.0</td>\n",
       "      <td>2310</td>\n",
       "      <td>2014</td>\n",
       "      <td>0.0</td>\n",
       "      <td>98146</td>\n",
       "      <td>47.5107</td>\n",
       "      <td>-122.362</td>\n",
       "      <td>1830</td>\n",
       "      <td>7200</td>\n",
       "      <td>0.0</td>\n",
       "    </tr>\n",
       "    <tr>\n",
       "      <th>21594</th>\n",
       "      <td>402101.0</td>\n",
       "      <td>2</td>\n",
       "      <td>0.75</td>\n",
       "      <td>1020</td>\n",
       "      <td>1350</td>\n",
       "      <td>2.0</td>\n",
       "      <td>1020</td>\n",
       "      <td>2009</td>\n",
       "      <td>0.0</td>\n",
       "      <td>98144</td>\n",
       "      <td>47.5944</td>\n",
       "      <td>-122.299</td>\n",
       "      <td>1020</td>\n",
       "      <td>2007</td>\n",
       "      <td>0.0</td>\n",
       "    </tr>\n",
       "    <tr>\n",
       "      <th>21595</th>\n",
       "      <td>400000.0</td>\n",
       "      <td>3</td>\n",
       "      <td>2.50</td>\n",
       "      <td>1600</td>\n",
       "      <td>2388</td>\n",
       "      <td>2.0</td>\n",
       "      <td>1600</td>\n",
       "      <td>2004</td>\n",
       "      <td>0.0</td>\n",
       "      <td>98027</td>\n",
       "      <td>47.5345</td>\n",
       "      <td>-122.069</td>\n",
       "      <td>1410</td>\n",
       "      <td>1287</td>\n",
       "      <td>0.0</td>\n",
       "    </tr>\n",
       "    <tr>\n",
       "      <th>21596</th>\n",
       "      <td>325000.0</td>\n",
       "      <td>2</td>\n",
       "      <td>0.75</td>\n",
       "      <td>1020</td>\n",
       "      <td>1076</td>\n",
       "      <td>2.0</td>\n",
       "      <td>1020</td>\n",
       "      <td>2008</td>\n",
       "      <td>0.0</td>\n",
       "      <td>98144</td>\n",
       "      <td>47.5941</td>\n",
       "      <td>-122.299</td>\n",
       "      <td>1020</td>\n",
       "      <td>1357</td>\n",
       "      <td>0.0</td>\n",
       "    </tr>\n",
       "  </tbody>\n",
       "</table>\n",
       "<p>21597 rows × 15 columns</p>\n",
       "</div>"
      ],
      "text/plain": [
       "          price  bedrooms  bathrooms  sqft_living  sqft_lot  floors  \\\n",
       "0      221900.0         3       1.00         1180      5650     1.0   \n",
       "1      538000.0         3       2.25         2570      7242     2.0   \n",
       "2      180000.0         2       1.00          770     10000     1.0   \n",
       "3      604000.0         4       3.00         1960      5000     1.0   \n",
       "4      510000.0         3       2.00         1680      8080     1.0   \n",
       "...         ...       ...        ...          ...       ...     ...   \n",
       "21592  360000.0         3       2.50         1530      1131     3.0   \n",
       "21593  400000.0         4       2.50         2310      5813     2.0   \n",
       "21594  402101.0         2       0.75         1020      1350     2.0   \n",
       "21595  400000.0         3       2.50         1600      2388     2.0   \n",
       "21596  325000.0         2       0.75         1020      1076     2.0   \n",
       "\n",
       "       sqft_above  yr_built  yr_renovated  zipcode      lat     long  \\\n",
       "0            1180      1955           0.0    98178  47.5112 -122.257   \n",
       "1            2170      1951        1991.0    98125  47.7210 -122.319   \n",
       "2             770      1933           0.0    98028  47.7379 -122.233   \n",
       "3            1050      1965           0.0    98136  47.5208 -122.393   \n",
       "4            1680      1987           0.0    98074  47.6168 -122.045   \n",
       "...           ...       ...           ...      ...      ...      ...   \n",
       "21592        1530      2009           0.0    98103  47.6993 -122.346   \n",
       "21593        2310      2014           0.0    98146  47.5107 -122.362   \n",
       "21594        1020      2009           0.0    98144  47.5944 -122.299   \n",
       "21595        1600      2004           0.0    98027  47.5345 -122.069   \n",
       "21596        1020      2008           0.0    98144  47.5941 -122.299   \n",
       "\n",
       "       sqft_living15  sqft_lot15  sqft_basement  \n",
       "0               1340        5650            0.0  \n",
       "1               1690        7639          400.0  \n",
       "2               2720        8062            0.0  \n",
       "3               1360        5000          910.0  \n",
       "4               1800        7503            0.0  \n",
       "...              ...         ...            ...  \n",
       "21592           1530        1509            0.0  \n",
       "21593           1830        7200            0.0  \n",
       "21594           1020        2007            0.0  \n",
       "21595           1410        1287            0.0  \n",
       "21596           1020        1357            0.0  \n",
       "\n",
       "[21597 rows x 15 columns]"
      ]
     },
     "execution_count": 17,
     "metadata": {},
     "output_type": "execute_result"
    }
   ],
   "source": [
    "df_num"
   ]
  },
  {
   "cell_type": "code",
   "execution_count": 18,
   "metadata": {},
   "outputs": [],
   "source": [
    "df_final = pd.concat([df_num, df_cat], axis=1)"
   ]
  },
  {
   "cell_type": "code",
   "execution_count": 19,
   "metadata": {},
   "outputs": [
    {
     "name": "stdout",
     "output_type": "stream",
     "text": [
      "<class 'pandas.core.frame.DataFrame'>\n",
      "RangeIndex: 21597 entries, 0 to 21596\n",
      "Data columns (total 28 columns):\n",
      " #   Column              Non-Null Count  Dtype  \n",
      "---  ------              --------------  -----  \n",
      " 0   price               21597 non-null  float64\n",
      " 1   bedrooms            21597 non-null  int64  \n",
      " 2   bathrooms           21597 non-null  float64\n",
      " 3   sqft_living         21597 non-null  int64  \n",
      " 4   sqft_lot            21597 non-null  int64  \n",
      " 5   floors              21597 non-null  float64\n",
      " 6   sqft_above          21597 non-null  int64  \n",
      " 7   yr_built            21597 non-null  int64  \n",
      " 8   yr_renovated        21597 non-null  float64\n",
      " 9   zipcode             21597 non-null  int64  \n",
      " 10  lat                 21597 non-null  float64\n",
      " 11  long                21597 non-null  float64\n",
      " 12  sqft_living15       21597 non-null  int64  \n",
      " 13  sqft_lot15          21597 non-null  int64  \n",
      " 14  sqft_basement       21597 non-null  float64\n",
      " 15  waterfront          21597 non-null  int64  \n",
      " 16  grade               21597 non-null  int64  \n",
      " 17  month_sold          21597 non-null  int64  \n",
      " 18  year_sold           21597 non-null  int64  \n",
      " 19  waterfront_missing  21597 non-null  bool   \n",
      " 20  cond__Fair          21597 non-null  uint8  \n",
      " 21  cond__Good          21597 non-null  uint8  \n",
      " 22  cond__Poor          21597 non-null  uint8  \n",
      " 23  cond__Very Good     21597 non-null  uint8  \n",
      " 24  view__EXCELLENT     21597 non-null  uint8  \n",
      " 25  view__FAIR          21597 non-null  uint8  \n",
      " 26  view__GOOD          21597 non-null  uint8  \n",
      " 27  view__NONE          21597 non-null  uint8  \n",
      "dtypes: bool(1), float64(7), int64(12), uint8(8)\n",
      "memory usage: 3.3 MB\n"
     ]
    }
   ],
   "source": [
    "df_final.info()"
   ]
  },
  {
   "cell_type": "code",
   "execution_count": 20,
   "metadata": {},
   "outputs": [],
   "source": [
    "df_final.to_csv('data/df_untransformed.csv', index=False)"
   ]
  },
  {
   "cell_type": "code",
   "execution_count": 21,
   "metadata": {},
   "outputs": [
    {
     "name": "stdout",
     "output_type": "stream",
     "text": [
      "README.md                      data_preprocessing-noble.ipynb\r\n",
      "Untitled.ipynb                 data_preprocessing.ipynb\r\n",
      "\u001b[34mdata\u001b[m\u001b[m                           notebook_main.ipynb\r\n"
     ]
    }
   ],
   "source": [
    "!ls"
   ]
  },
  {
   "cell_type": "code",
   "execution_count": 22,
   "metadata": {},
   "outputs": [],
   "source": [
    "!cd data"
   ]
  },
  {
   "cell_type": "code",
   "execution_count": 23,
   "metadata": {},
   "outputs": [
    {
     "name": "stdout",
     "output_type": "stream",
     "text": [
      "column_names.md      df_untransformed.csv kc_house_data.csv\r\n"
     ]
    }
   ],
   "source": [
    "!ls data"
   ]
  },
  {
   "cell_type": "code",
   "execution_count": null,
   "metadata": {},
   "outputs": [],
   "source": [
    "res = np.sum((y_predicted - y_real)**2)\n",
    "res = round(rss, 2)\n",
    "\n",
    "\n",
    "tot = np.sum((np.mean(y_real) - y_real)**2)\n",
    "r_squared = round(1 - res/tot, 2)"
   ]
  },
  {
   "cell_type": "code",
   "execution_count": 25,
   "metadata": {},
   "outputs": [],
   "source": [
    "df_train = df.sample(frac=0.8, random_state=2)\n",
    "df_test = df.drop(df_train.index)\n",
    "\n",
    "X_train = df_train.drop('price', axis=1)\n",
    "y_train = df_train['price']\n",
    "\n",
    "X_test = df_test.drop('price', axis=1)\n",
    "y_test = df_test['price']"
   ]
  },
  {
   "cell_type": "code",
   "execution_count": 28,
   "metadata": {},
   "outputs": [
    {
     "data": {
      "text/plain": [
       "(array([1.740e+02, 1.174e+03, 2.471e+03, 2.613e+03, 2.421e+03, 1.951e+03,\n",
       "        1.623e+03, 1.180e+03, 9.340e+02, 7.190e+02, 4.780e+02, 3.330e+02,\n",
       "        1.930e+02, 1.340e+02, 1.410e+02, 1.070e+02, 1.030e+02, 7.000e+01,\n",
       "        6.000e+01, 6.200e+01, 3.500e+01, 5.700e+01, 2.700e+01, 3.100e+01,\n",
       "        2.400e+01, 1.400e+01, 7.000e+00, 1.800e+01, 1.400e+01, 1.300e+01,\n",
       "        1.300e+01, 1.400e+01, 1.000e+01, 3.000e+00, 5.000e+00, 3.000e+00,\n",
       "        3.000e+00, 6.000e+00, 5.000e+00, 4.000e+00, 4.000e+00, 0.000e+00,\n",
       "        5.000e+00, 2.000e+00, 0.000e+00, 1.000e+00, 4.000e+00, 1.000e+00,\n",
       "        2.000e+00, 1.000e+00, 0.000e+00, 1.000e+00, 0.000e+00, 0.000e+00,\n",
       "        1.000e+00, 0.000e+00, 0.000e+00, 1.000e+00, 1.000e+00, 0.000e+00,\n",
       "        1.000e+00, 0.000e+00, 0.000e+00, 0.000e+00, 0.000e+00, 0.000e+00,\n",
       "        1.000e+00, 0.000e+00, 1.000e+00, 1.000e+00, 0.000e+00, 0.000e+00,\n",
       "        1.000e+00, 0.000e+00, 0.000e+00, 0.000e+00, 0.000e+00, 0.000e+00,\n",
       "        0.000e+00, 0.000e+00, 0.000e+00, 0.000e+00, 0.000e+00, 0.000e+00,\n",
       "        0.000e+00, 0.000e+00, 0.000e+00, 0.000e+00, 0.000e+00, 0.000e+00,\n",
       "        0.000e+00, 1.000e+00, 0.000e+00, 0.000e+00, 0.000e+00, 0.000e+00,\n",
       "        0.000e+00, 0.000e+00, 0.000e+00, 1.000e+00]),\n",
       " array([  78000.,  154220.,  230440.,  306660.,  382880.,  459100.,\n",
       "         535320.,  611540.,  687760.,  763980.,  840200.,  916420.,\n",
       "         992640., 1068860., 1145080., 1221300., 1297520., 1373740.,\n",
       "        1449960., 1526180., 1602400., 1678620., 1754840., 1831060.,\n",
       "        1907280., 1983500., 2059720., 2135940., 2212160., 2288380.,\n",
       "        2364600., 2440820., 2517040., 2593260., 2669480., 2745700.,\n",
       "        2821920., 2898140., 2974360., 3050580., 3126800., 3203020.,\n",
       "        3279240., 3355460., 3431680., 3507900., 3584120., 3660340.,\n",
       "        3736560., 3812780., 3889000., 3965220., 4041440., 4117660.,\n",
       "        4193880., 4270100., 4346320., 4422540., 4498760., 4574980.,\n",
       "        4651200., 4727420., 4803640., 4879860., 4956080., 5032300.,\n",
       "        5108520., 5184740., 5260960., 5337180., 5413400., 5489620.,\n",
       "        5565840., 5642060., 5718280., 5794500., 5870720., 5946940.,\n",
       "        6023160., 6099380., 6175600., 6251820., 6328040., 6404260.,\n",
       "        6480480., 6556700., 6632920., 6709140., 6785360., 6861580.,\n",
       "        6937800., 7014020., 7090240., 7166460., 7242680., 7318900.,\n",
       "        7395120., 7471340., 7547560., 7623780., 7700000.]),\n",
       " <BarContainer object of 100 artists>)"
      ]
     },
     "execution_count": 28,
     "metadata": {},
     "output_type": "execute_result"
    },
    {
     "data": {
      "image/png": "[encoded data removed]",
      "text/plain": [
       "<Figure size 432x288 with 1 Axes>"
      ]
     },
     "metadata": {
      "needs_background": "light"
     },
     "output_type": "display_data"
    }
   ],
   "source": [
    "fig, ax = plt.subplots()\n",
    "\n",
    "ax.hist(y_train, bins=100)"
   ]
  },
  {
   "cell_type": "code",
   "execution_count": 31,
   "metadata": {},
   "outputs": [
    {
     "data": {
      "text/plain": [
       "<AxesSubplot:>"
      ]
     },
     "execution_count": 31,
     "metadata": {},
     "output_type": "execute_result"
    },
    {
     "data": {
      "image/png": "[encoded data removed]",
      "text/plain": [
       "<Figure size 720x720 with 2 Axes>"
      ]
     },
     "metadata": {
      "needs_background": "light"
     },
     "output_type": "display_data"
    }
   ],
   "source": [
    "heatmap_data = pd.concat([y_train, X_train], axis=1)\n",
    "corr = heatmap_data.corr()\n",
    "\n",
    "fig, ax = plt.subplots(figsize=(10, 10))\n",
    "\n",
    "sns.heatmap(data=corr, mask=np.triu(np.ones_like(corr, dtype=bool)), ax=ax, annot=True)"
   ]
  },
  {
   "cell_type": "code",
   "execution_count": 51,
   "metadata": {},
   "outputs": [
    {
     "name": "stdout",
     "output_type": "stream",
     "text": [
      "Train score:      0.4922939341679502\n",
      "Validation score: 0.49241336038410877\n"
     ]
    }
   ],
   "source": [
    "from sklearn.linear_model import LinearRegression\n",
    "from sklearn.model_selection import cross_validate\n",
    "from sklearn.model_selection import ShuffleSplit\n",
    "\n",
    "most_correlated_feature = 'sqft_living'\n",
    "baseline_model = LinearRegression()\n",
    "\n",
    "splitter = ShuffleSplit(n_splits=3, test_size=0.25, random_state=0)\n",
    "\n",
    "baseline_scores = cross_validate(\n",
    "    estimator=baseline_model,\n",
    "    X=X_train[[most_correlated_feature]],\n",
    "    y=y_train,\n",
    "    return_train_score=True,\n",
    "    cv=splitter\n",
    ")\n",
    "\n",
    "print(\"Train score:     \", baseline_scores[\"train_score\"].mean())\n",
    "print(\"Validation score:\", baseline_scores[\"test_score\"].mean())"
   ]
  },
  {
   "cell_type": "code",
   "execution_count": 53,
   "metadata": {},
   "outputs": [
    {
     "data": {
      "text/plain": [
       "0.0       17011\n",
       "2014.0       73\n",
       "2003.0       31\n",
       "2013.0       31\n",
       "2007.0       30\n",
       "          ...  \n",
       "1946.0        1\n",
       "1959.0        1\n",
       "1971.0        1\n",
       "1951.0        1\n",
       "1954.0        1\n",
       "Name: yr_renovated, Length: 70, dtype: int64"
      ]
     },
     "execution_count": 53,
     "metadata": {},
     "output_type": "execute_result"
    }
   ],
   "source": [
    "df['yr_renovated'].value_counts()"
   ]
  },
  {
   "cell_type": "code",
   "execution_count": 54,
   "metadata": {},
   "outputs": [
    {
     "data": {
      "text/plain": [
       "(21597, 20)"
      ]
     },
     "execution_count": 54,
     "metadata": {},
     "output_type": "execute_result"
    }
   ],
   "source": [
    "df.shape"
   ]
  },
  {
   "cell_type": "code",
   "execution_count": null,
   "metadata": {},
   "outputs": [],
   "source": []
  }
 ],
 "metadata": {
  "kernelspec": {
   "display_name": "Python (learn-env)",
   "language": "python",
   "name": "learn-env"
  },
  "language_info": {
   "codemirror_mode": {
    "name": "ipython",
    "version": 3
   },
   "file_extension": ".py",
   "mimetype": "text/x-python",
   "name": "python",
   "nbconvert_exporter": "python",
   "pygments_lexer": "ipython3",
   "version": "3.8.5"
  }
 },
 "nbformat": 4,
 "nbformat_minor": 4
}
